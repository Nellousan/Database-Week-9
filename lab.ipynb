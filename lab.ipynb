{
 "cells": [
  {
   "cell_type": "code",
   "execution_count": 1,
   "metadata": {},
   "outputs": [
    {
     "name": "stdout",
     "output_type": "stream",
     "text": [
      "sqlite\n"
     ]
    }
   ],
   "source": [
    "from sqlalchemy import create_engine\n",
    "my_conn = create_engine(\"sqlite:///my_db.sqlite\")\n",
    "print(my_conn.name)"
   ]
  },
  {
   "cell_type": "code",
   "execution_count": 3,
   "metadata": {},
   "outputs": [
    {
     "name": "stdout",
     "output_type": "stream",
     "text": [
      "('category',)\n",
      "('subcategory',)\n",
      "('student',)\n"
     ]
    }
   ],
   "source": [
    "r_set = my_conn.execute('''SELECT name FROM sqlite_master WHERE type='table' ''')\n",
    "for row in r_set:\n",
    "    print(row)"
   ]
  },
  {
   "cell_type": "code",
   "execution_count": 4,
   "metadata": {},
   "outputs": [
    {
     "name": "stdout",
     "output_type": "stream",
     "text": [
      "(1, 'John Deo', 'Four', 75, 'female')\n",
      "(2, 'Max Ruin', 'Three', 85, 'male')\n",
      "(3, 'Arnold', 'Three', 55, 'male')\n",
      "(4, 'Krish Star', 'Four', 60, 'female')\n",
      "(5, 'John Mike', 'Four', 60, 'female')\n",
      "(6, 'Alex John', 'Four', 55, 'male')\n",
      "(7, 'My John Rob', 'Five', 78, 'male')\n",
      "(8, 'Asruid', 'Five', 85, 'male')\n",
      "(9, 'Tes Qry', 'Six', 78, 'male')\n",
      "(10, 'Big John', 'Four', 55, 'female')\n",
      "(11, 'Ronald', 'Six', 89, 'female')\n",
      "(12, 'Recky', 'Six', 94, 'female')\n",
      "(13, 'Kty', 'Seven', 88, 'female')\n",
      "(14, 'Bigy', 'Seven', 88, 'female')\n",
      "(15, 'Tade Row', 'Four', 88, 'male')\n",
      "(16, 'Gimmy', 'Four', 88, 'male')\n",
      "(17, 'Tumyu', 'Six', 54, 'male')\n",
      "(18, 'Honny', 'Five', 75, 'male')\n",
      "(19, 'Tinny', 'Nine', 18, 'male')\n",
      "(20, 'Jackly', 'Nine', 65, 'female')\n",
      "(21, 'Babby John', 'Four', 69, 'female')\n",
      "(22, 'Reggid', 'Seven', 55, 'female')\n",
      "(23, 'Herod', 'Eight', 79, 'male')\n",
      "(24, 'Tiddy Now', 'Seven', 78, 'male')\n",
      "(25, 'Giff Tow', 'Seven', 88, 'male')\n",
      "(26, 'Crelea', 'Seven', 79, 'male')\n",
      "(27, 'Big Nose', 'Three', 81, 'female')\n",
      "(28, 'Rojj Base', 'Seven', 86, 'female')\n",
      "(29, 'Tess Played', 'Seven', 55, 'male')\n",
      "(30, 'Reppy Red', 'Six', 79, 'female')\n",
      "(31, 'Marry Toeey', 'Four', 88, 'male')\n",
      "(32, 'Binn Rott', 'Seven', 90, 'female')\n",
      "(33, 'Kenn Rein', 'Six', 96, 'female')\n",
      "(34, 'Gain Toe', 'Seven', 69, 'male')\n",
      "(35, 'Rows Noump', 'Six', 88, 'female')\n"
     ]
    }
   ],
   "source": [
    "r_set = my_conn.execute('''SELECT * FROM student ''')\n",
    "for row in r_set:\n",
    "    print(row) "
   ]
  },
  {
   "cell_type": "code",
   "execution_count": 5,
   "metadata": {},
   "outputs": [
    {
     "name": "stdout",
     "output_type": "stream",
     "text": [
      "(1, 'Fruits')\n",
      "(2, 'Colors')\n",
      "(3, 'Games')\n",
      "(4, 'Vehicles')\n"
     ]
    }
   ],
   "source": [
    "r_set = my_conn.execute(''' SELECT * FROM category ''')\n",
    "for row in r_set:\n",
    "    print(row)"
   ]
  },
  {
   "cell_type": "code",
   "execution_count": 6,
   "metadata": {},
   "outputs": [
    {
     "name": "stdout",
     "output_type": "stream",
     "text": [
      "(1, 'Mango')\n",
      "(1, 'Banana')\n",
      "(1, 'Orange')\n",
      "(1, 'Apple')\n",
      "(2, 'Red')\n",
      "(2, 'Blue')\n",
      "(2, 'Green')\n",
      "(2, 'Yellow')\n",
      "(3, 'Cricket')\n",
      "(3, 'Football')\n",
      "(3, 'Baseball')\n",
      "(3, 'Tennis')\n",
      "(4, 'Cars')\n",
      "(4, 'Trucks')\n",
      "(4, 'Bikes')\n",
      "(4, 'Train')\n"
     ]
    }
   ],
   "source": [
    "r_set = my_conn.execute(''' SELECT * FROM subcategory ''')\n",
    "for row in r_set:\n",
    "    print(row)"
   ]
  },
  {
   "cell_type": "code",
   "execution_count": 8,
   "metadata": {},
   "outputs": [
    {
     "name": "stdout",
     "output_type": "stream",
     "text": [
      "(1, 'John Deo', 'Four', 75, 'female')\n",
      "(4, 'Krish Star', 'Four', 60, 'female')\n",
      "(5, 'John Mike', 'Four', 60, 'female')\n",
      "(6, 'Alex John', 'Four', 55, 'male')\n",
      "(10, 'Big John', 'Four', 55, 'female')\n",
      "(15, 'Tade Row', 'Four', 88, 'male')\n",
      "(16, 'Gimmy', 'Four', 88, 'male')\n",
      "(21, 'Babby John', 'Four', 69, 'female')\n",
      "(31, 'Marry Toeey', 'Four', 88, 'male')\n"
     ]
    }
   ],
   "source": [
    "q = \"SELECT id, name, class, mark, sex FROM student WHERE class='Four'\"\n",
    "my_cursor = my_conn.execute(q)\n",
    "for row in my_cursor:\n",
    "    print(row)"
   ]
  },
  {
   "cell_type": "code",
   "execution_count": 10,
   "metadata": {},
   "outputs": [
    {
     "name": "stdout",
     "output_type": "stream",
     "text": [
      "<class 'list'>\n",
      "No of records: 10\n",
      "(1, 'John Deo', 'Four', 75, 'female')\n",
      "(2, 'Max Ruin', 'Three', 85, 'male')\n",
      "(3, 'Arnold', 'Three', 55, 'male')\n",
      "(4, 'Krish Star', 'Four', 60, 'female')\n",
      "(5, 'John Mike', 'Four', 60, 'female')\n",
      "(6, 'Alex John', 'Four', 55, 'male')\n",
      "(7, 'My John Rob', 'Five', 78, 'male')\n",
      "(8, 'Asruid', 'Five', 85, 'male')\n",
      "(9, 'Tes Qry', 'Six', 78, 'male')\n",
      "(10, 'Big John', 'Four', 55, 'female')\n"
     ]
    }
   ],
   "source": [
    "q = \"SELECT id, name, class, mark, sex FROM student LIMIT 0,10\"\n",
    "my_cursor = my_conn.execute(q)\n",
    "data_row = my_cursor.fetchall()\n",
    "\n",
    "print(type(data_row))\n",
    "print(\"No of records: {}\".format(len(data_row)))\n",
    "for row in data_row:\n",
    "    print(row)"
   ]
  },
  {
   "cell_type": "code",
   "execution_count": 24,
   "metadata": {},
   "outputs": [
    {
     "name": "stdout",
     "output_type": "stream",
     "text": [
      "student table deleted\n"
     ]
    }
   ],
   "source": [
    "from sqlalchemy.exc import SQLAlchemyError\n",
    "try:\n",
    "    my_conn.execute('''DROP table student''')\n",
    "    print(\"student table deleted\")\n",
    "except:\n",
    "    error = str(e._dict_['orig'])\n",
    "    print(error)"
   ]
  },
  {
   "cell_type": "code",
   "execution_count": 25,
   "metadata": {},
   "outputs": [
    {
     "name": "stdout",
     "output_type": "stream",
     "text": [
      "Student table created\n"
     ]
    }
   ],
   "source": [
    "try:\n",
    "    my_conn.execute('''CREATE TABLE IF NOT EXISTS student(\n",
    "        id integer primary key,\n",
    "        name text,\n",
    "        class text,\n",
    "        mark integer,\n",
    "        sex text\n",
    "    );''')\n",
    "    print(\"Student table created\")\n",
    "except SQLAlchemyError as e:\n",
    "    print(e)\n"
   ]
  },
  {
   "cell_type": "code",
   "execution_count": 26,
   "metadata": {},
   "outputs": [],
   "source": [
    "r_set = my_conn.execute('''INSERT INTO student ('id', 'name', 'class', 'mark', 'sex') VALUES\n",
    "(1, 'John Deo', 'Four', 75, 'female'),\n",
    "(2, 'Max Ruin', 'Three', 85, 'male'),\n",
    "(3, 'Arnold', 'Three', 55, 'male'),\n",
    "(4, 'Krish Star', 'Four', 60, 'female'),\n",
    "(5, 'John Mike', 'Four', 60, 'female'),\n",
    "(6, 'Alex John', 'Four', 55, 'male'),\n",
    "(7, 'My John Rob', 'Five', 78, 'male'),\n",
    "(8, 'Asruid', 'Five', 85, 'male'),\n",
    "(9, 'Tes Qry', 'Six', 78, 'male'),\n",
    "(10, 'Big John', 'Four', 55, 'female'),\n",
    "(11, 'Ronald', 'Six', 89, 'female'),\n",
    "(27, 'Big Nose', 'Three', 81, 'female'),\n",
    "(28, 'Rojj Base', 'Seven', 86, 'female'),\n",
    "(29, 'Tess Played', 'Seven', 55, 'male'),\n",
    "(30, 'Reppy Red', 'Six', 79, 'female'),\n",
    "(31, 'Marry Toeey', 'Four', 88, 'male'),\n",
    "(32, 'Binn Rott', 'Seven', 90, 'female'),\n",
    "(33, 'Kenn Rein', 'Six', 96, 'female'),\n",
    "(34, 'Gain Toe', 'Seven', 69, 'male'),\n",
    "(35, 'Rows Noump', 'Six', 88, 'female');''')"
   ]
  },
  {
   "cell_type": "code",
   "execution_count": 28,
   "metadata": {},
   "outputs": [
    {
     "name": "stdout",
     "output_type": "stream",
     "text": [
      " lab.ipynb\t\t       my_db2.sqlite   student_insert.sql\n",
      "'Lab Materials-20221026.zip'   my_db.sqlite    student_tables.sql\n"
     ]
    }
   ],
   "source": [
    "my_conn = create_engine(\"sqlite:///my_db2.sqlite\")\n",
    "conn = my_conn.connect()\n",
    "\n",
    "!ls"
   ]
  },
  {
   "cell_type": "code",
   "execution_count": 30,
   "metadata": {},
   "outputs": [
    {
     "name": "stdout",
     "output_type": "stream",
     "text": [
      "student table deleted\n"
     ]
    }
   ],
   "source": [
    "my_conn = create_engine(\"sqlite:///my_db.sqlite\")\n",
    "\n",
    "try:\n",
    "    my_conn.execute('''DROP table student;''')\n",
    "    print(\"student table deleted\")\n",
    "except SQLAlchemyError as e:\n",
    "    print(e)"
   ]
  },
  {
   "cell_type": "code",
   "execution_count": 31,
   "metadata": {},
   "outputs": [
    {
     "name": "stdout",
     "output_type": "stream",
     "text": [
      "('category',)\n",
      "('subcategory',)\n"
     ]
    }
   ],
   "source": [
    "r_set = my_conn.execute('''SELECT name FROM sqlite_master WHERE type = 'table' ''')\n",
    "for row in r_set:\n",
    "    print(row)"
   ]
  },
  {
   "cell_type": "code",
   "execution_count": 32,
   "metadata": {},
   "outputs": [
    {
     "name": "stdout",
     "output_type": "stream",
     "text": [
      "('category',)\n",
      "('subcategory',)\n",
      "('student',)\n"
     ]
    }
   ],
   "source": [
    "with open(\"student_tables.sql\", \"r\") as file:\n",
    "    query = file.read()\n",
    "    my_conn.execute(query)\n",
    "\n",
    "r_set = my_conn.execute('''SELECT name FROM sqlite_master WHERE type = 'table';''')\n",
    "for row in r_set:\n",
    "    print(row)"
   ]
  },
  {
   "cell_type": "code",
   "execution_count": 33,
   "metadata": {},
   "outputs": [
    {
     "name": "stdout",
     "output_type": "stream",
     "text": [
      "(1, 'John Deo', 'Four', 75, 'female')\n",
      "(2, 'Max Ruin', 'Three', 85, 'male')\n",
      "(3, 'Arnold', 'Three', 55, 'male')\n",
      "(4, 'Krish Star', 'Four', 60, 'female')\n",
      "(5, 'John Mike', 'Four', 60, 'female')\n",
      "(6, 'Alex John', 'Four', 55, 'male')\n",
      "(7, 'My John Rob', 'Five', 78, 'male')\n",
      "(8, 'Asruid', 'Five', 85, 'male')\n",
      "(9, 'Tes Qry', 'Six', 78, 'male')\n",
      "(10, 'Big John', 'Four', 55, 'female')\n",
      "(11, 'Ronald', 'Six', 89, 'female')\n",
      "(27, 'Big Nose', 'Three', 81, 'female')\n",
      "(28, 'Rojj Base', 'Seven', 86, 'female')\n",
      "(29, 'Tess Played', 'Seven', 55, 'male')\n",
      "(30, 'Reppy Red', 'Six', 79, 'female')\n",
      "(31, 'Marry Toeey', 'Four', 88, 'male')\n",
      "(32, 'Binn Rott', 'Seven', 90, 'female')\n",
      "(33, 'Kenn Rein', 'Six', 96, 'female')\n",
      "(34, 'Gain Toe', 'Seven', 69, 'male')\n",
      "(35, 'Rows Noump', 'Six', 88, 'female')\n"
     ]
    }
   ],
   "source": [
    "with open(\"student_insert.sql\", \"r\") as file:\n",
    "    query = file.read()\n",
    "    my_conn.execute(query)\n",
    "\n",
    "r_set = my_conn.execute('''SELECT * FROM student''')\n",
    "for row in r_set:\n",
    "    print(row)"
   ]
  },
  {
   "cell_type": "code",
   "execution_count": 34,
   "metadata": {},
   "outputs": [
    {
     "name": "stdout",
     "output_type": "stream",
     "text": [
      "No of records updated: 20\n"
     ]
    }
   ],
   "source": [
    "q = \"UPDATE student SET mark=mark+1\"\n",
    "try:\n",
    "    r_set = my_conn.execute(q)\n",
    "except SQLAlchemyError as e:\n",
    "    print(e)\n",
    "else:\n",
    "    print(\"No of records updated: {}\".format(r_set.rowcount))"
   ]
  },
  {
   "cell_type": "code",
   "execution_count": 35,
   "metadata": {},
   "outputs": [
    {
     "name": "stdout",
     "output_type": "stream",
     "text": [
      "(1, 'John Deo', 'Four', 76, 'female')\n",
      "(2, 'Max Ruin', 'Three', 86, 'male')\n",
      "(3, 'Arnold', 'Three', 56, 'male')\n",
      "(4, 'Krish Star', 'Four', 61, 'female')\n",
      "(5, 'John Mike', 'Four', 61, 'female')\n",
      "(6, 'Alex John', 'Four', 56, 'male')\n",
      "(7, 'My John Rob', 'Five', 79, 'male')\n",
      "(8, 'Asruid', 'Five', 86, 'male')\n",
      "(9, 'Tes Qry', 'Six', 79, 'male')\n",
      "(10, 'Big John', 'Four', 56, 'female')\n",
      "(11, 'Ronald', 'Six', 90, 'female')\n",
      "(27, 'Big Nose', 'Three', 82, 'female')\n",
      "(28, 'Rojj Base', 'Seven', 87, 'female')\n",
      "(29, 'Tess Played', 'Seven', 56, 'male')\n",
      "(30, 'Reppy Red', 'Six', 80, 'female')\n",
      "(31, 'Marry Toeey', 'Four', 89, 'male')\n",
      "(32, 'Binn Rott', 'Seven', 91, 'female')\n",
      "(33, 'Kenn Rein', 'Six', 97, 'female')\n",
      "(34, 'Gain Toe', 'Seven', 70, 'male')\n",
      "(35, 'Rows Noump', 'Six', 89, 'female')\n"
     ]
    }
   ],
   "source": [
    "r_set = my_conn.execute('''SELECT * FROM student''')\n",
    "for row in r_set:\n",
    "    print(row)"
   ]
  },
  {
   "cell_type": "code",
   "execution_count": 36,
   "metadata": {},
   "outputs": [
    {
     "name": "stdout",
     "output_type": "stream",
     "text": [
      "No of records updated: 1\n"
     ]
    }
   ],
   "source": [
    "q = \"UPDATE student SET mark=mark+1 WHERE id=7\"\n",
    "try:\n",
    "    r_set = my_conn.execute(q)\n",
    "except SQLAlchemyError as e:\n",
    "    print(e)\n",
    "else:\n",
    "    print(\"No of records updated: {}\".format(r_set.rowcount))"
   ]
  },
  {
   "cell_type": "code",
   "execution_count": 37,
   "metadata": {},
   "outputs": [
    {
     "name": "stdout",
     "output_type": "stream",
     "text": [
      "(1, 'John Deo', 'Four', 76, 'female')\n",
      "(2, 'Max Ruin', 'Three', 86, 'male')\n",
      "(3, 'Arnold', 'Three', 56, 'male')\n",
      "(4, 'Krish Star', 'Four', 61, 'female')\n",
      "(5, 'John Mike', 'Four', 61, 'female')\n",
      "(6, 'Alex John', 'Four', 56, 'male')\n",
      "(7, 'My John Rob', 'Five', 80, 'male')\n",
      "(8, 'Asruid', 'Five', 86, 'male')\n",
      "(9, 'Tes Qry', 'Six', 79, 'male')\n",
      "(10, 'Big John', 'Four', 56, 'female')\n",
      "(11, 'Ronald', 'Six', 90, 'female')\n",
      "(27, 'Big Nose', 'Three', 82, 'female')\n",
      "(28, 'Rojj Base', 'Seven', 87, 'female')\n",
      "(29, 'Tess Played', 'Seven', 56, 'male')\n",
      "(30, 'Reppy Red', 'Six', 80, 'female')\n",
      "(31, 'Marry Toeey', 'Four', 89, 'male')\n",
      "(32, 'Binn Rott', 'Seven', 91, 'female')\n",
      "(33, 'Kenn Rein', 'Six', 97, 'female')\n",
      "(34, 'Gain Toe', 'Seven', 70, 'male')\n",
      "(35, 'Rows Noump', 'Six', 89, 'female')\n"
     ]
    }
   ],
   "source": [
    "r_set = my_conn.execute('''SELECT * FROM student''')\n",
    "for row in r_set:\n",
    "    print(row)"
   ]
  },
  {
   "cell_type": "code",
   "execution_count": 38,
   "metadata": {},
   "outputs": [
    {
     "name": "stdout",
     "output_type": "stream",
     "text": [
      "No of records updated: 6\n"
     ]
    }
   ],
   "source": [
    "q = \"UPDATE student SET mark=mark+1 WHERE class='Four'\"\n",
    "try:\n",
    "    r_set = my_conn.execute(q)\n",
    "except SQLAlchemyError as e:\n",
    "    print(e)\n",
    "else:\n",
    "    print(\"No of records updated: {}\".format(r_set.rowcount))"
   ]
  },
  {
   "cell_type": "code",
   "execution_count": 39,
   "metadata": {},
   "outputs": [
    {
     "name": "stdout",
     "output_type": "stream",
     "text": [
      "(1, 'John Deo', 'Four', 77, 'female')\n",
      "(2, 'Max Ruin', 'Three', 86, 'male')\n",
      "(3, 'Arnold', 'Three', 56, 'male')\n",
      "(4, 'Krish Star', 'Four', 62, 'female')\n",
      "(5, 'John Mike', 'Four', 62, 'female')\n",
      "(6, 'Alex John', 'Four', 57, 'male')\n",
      "(7, 'My John Rob', 'Five', 80, 'male')\n",
      "(8, 'Asruid', 'Five', 86, 'male')\n",
      "(9, 'Tes Qry', 'Six', 79, 'male')\n",
      "(10, 'Big John', 'Four', 57, 'female')\n",
      "(11, 'Ronald', 'Six', 90, 'female')\n",
      "(27, 'Big Nose', 'Three', 82, 'female')\n",
      "(28, 'Rojj Base', 'Seven', 87, 'female')\n",
      "(29, 'Tess Played', 'Seven', 56, 'male')\n",
      "(30, 'Reppy Red', 'Six', 80, 'female')\n",
      "(31, 'Marry Toeey', 'Four', 90, 'male')\n",
      "(32, 'Binn Rott', 'Seven', 91, 'female')\n",
      "(33, 'Kenn Rein', 'Six', 97, 'female')\n",
      "(34, 'Gain Toe', 'Seven', 70, 'male')\n",
      "(35, 'Rows Noump', 'Six', 89, 'female')\n"
     ]
    }
   ],
   "source": [
    "r_set = my_conn.execute('''SELECT * FROM student''')\n",
    "for row in r_set:\n",
    "    print(row)"
   ]
  },
  {
   "cell_type": "code",
   "execution_count": 40,
   "metadata": {},
   "outputs": [
    {
     "name": "stdout",
     "output_type": "stream",
     "text": [
      "No of records updated: 3\n"
     ]
    }
   ],
   "source": [
    "q = \"UPDATE student SET class='Four' WHERE class='Three'\"\n",
    "try:\n",
    "    r_set = my_conn.execute(q)\n",
    "except SQLAlchemyError as e:\n",
    "    print(e)\n",
    "else:\n",
    "    print(\"No of records updated: {}\".format(r_set.rowcount))"
   ]
  },
  {
   "cell_type": "code",
   "execution_count": 41,
   "metadata": {},
   "outputs": [
    {
     "name": "stdout",
     "output_type": "stream",
     "text": [
      "(1, 'John Deo', 'Four', 77, 'female')\n",
      "(2, 'Max Ruin', 'Four', 86, 'male')\n",
      "(3, 'Arnold', 'Four', 56, 'male')\n",
      "(4, 'Krish Star', 'Four', 62, 'female')\n",
      "(5, 'John Mike', 'Four', 62, 'female')\n",
      "(6, 'Alex John', 'Four', 57, 'male')\n",
      "(7, 'My John Rob', 'Five', 80, 'male')\n",
      "(8, 'Asruid', 'Five', 86, 'male')\n",
      "(9, 'Tes Qry', 'Six', 79, 'male')\n",
      "(10, 'Big John', 'Four', 57, 'female')\n",
      "(11, 'Ronald', 'Six', 90, 'female')\n",
      "(27, 'Big Nose', 'Four', 82, 'female')\n",
      "(28, 'Rojj Base', 'Seven', 87, 'female')\n",
      "(29, 'Tess Played', 'Seven', 56, 'male')\n",
      "(30, 'Reppy Red', 'Six', 80, 'female')\n",
      "(31, 'Marry Toeey', 'Four', 90, 'male')\n",
      "(32, 'Binn Rott', 'Seven', 91, 'female')\n",
      "(33, 'Kenn Rein', 'Six', 97, 'female')\n",
      "(34, 'Gain Toe', 'Seven', 70, 'male')\n",
      "(35, 'Rows Noump', 'Six', 89, 'female')\n"
     ]
    }
   ],
   "source": [
    "r_set = my_conn.execute('''SELECT * FROM student''')\n",
    "for row in r_set:\n",
    "    print(row)"
   ]
  },
  {
   "cell_type": "code",
   "execution_count": 42,
   "metadata": {},
   "outputs": [
    {
     "name": "stdout",
     "output_type": "stream",
     "text": [
      "No of records updated :  1\n"
     ]
    }
   ],
   "source": [
    "id = input(\"input stud id: \")\n",
    "my_data = (id,)\n",
    "q = \"UPDATE student SET mark=mark+5 WHERE id=?\"\n",
    "try:\n",
    "    r_set = my_conn.execute(q, my_data)\n",
    "except:\n",
    "    print(e)\n",
    "else:\n",
    "    print(\"No of records updated : \", r_set.rowcount)\n"
   ]
  },
  {
   "cell_type": "code",
   "execution_count": 43,
   "metadata": {},
   "outputs": [
    {
     "name": "stdout",
     "output_type": "stream",
     "text": [
      "No of records updated :  4\n"
     ]
    }
   ],
   "source": [
    "my_data = ('Six', 'Seven')\n",
    "q = \"UPDATE student SET class=? WHERE class=?\"\n",
    "try:\n",
    "    r_set = my_conn.execute(q, my_data)\n",
    "except SQLAlchemyError as e:\n",
    "    print(e)\n",
    "else:\n",
    "    print(\"No of records updated : \", r_set.rowcount)"
   ]
  },
  {
   "cell_type": "code",
   "execution_count": 44,
   "metadata": {},
   "outputs": [
    {
     "name": "stdout",
     "output_type": "stream",
     "text": [
      "(1, 'John Deo', 'Four', 77, 'female')\n",
      "(2, 'Max Ruin', 'Four', 86, 'male')\n",
      "(3, 'Arnold', 'Four', 56, 'male')\n",
      "(4, 'Krish Star', 'Four', 62, 'female')\n",
      "(5, 'John Mike', 'Four', 62, 'female')\n",
      "(6, 'Alex John', 'Four', 57, 'male')\n",
      "(7, 'My John Rob', 'Five', 80, 'male')\n",
      "(8, 'Asruid', 'Five', 86, 'male')\n",
      "(9, 'Tes Qry', 'Six', 79, 'male')\n",
      "(10, 'Big John', 'Four', 57, 'female')\n",
      "(11, 'Ronald', 'Six', 95, 'female')\n",
      "(27, 'Big Nose', 'Four', 82, 'female')\n",
      "(28, 'Rojj Base', 'Six', 87, 'female')\n",
      "(29, 'Tess Played', 'Six', 56, 'male')\n",
      "(30, 'Reppy Red', 'Six', 80, 'female')\n",
      "(31, 'Marry Toeey', 'Four', 90, 'male')\n",
      "(32, 'Binn Rott', 'Six', 91, 'female')\n",
      "(33, 'Kenn Rein', 'Six', 97, 'female')\n",
      "(34, 'Gain Toe', 'Six', 70, 'male')\n",
      "(35, 'Rows Noump', 'Six', 89, 'female')\n"
     ]
    }
   ],
   "source": [
    "r_set = my_conn.execute('''SELECT * FROM student''')\n",
    "for row in r_set:\n",
    "    print(row)"
   ]
  },
  {
   "cell_type": "code",
   "execution_count": 45,
   "metadata": {},
   "outputs": [
    {
     "name": "stdout",
     "output_type": "stream",
     "text": [
      "Four\n",
      "Five\n",
      "Six\n",
      "No of records displayed :  3\n"
     ]
    }
   ],
   "source": [
    "q = \"SELECT DISTINCT(class) FROM student\"\n",
    "\n",
    "try:\n",
    "    r_set = my_conn.execute(q)\n",
    "    data = r_set.fetchall()\n",
    "    for row in data:\n",
    "        print(row[0])\n",
    "except SQLAlchemyError as e:\n",
    "    print(e)\n",
    "else:\n",
    "    print(\"No of records displayed : \", len(data))\n",
    "    "
   ]
  },
  {
   "cell_type": "code",
   "execution_count": 46,
   "metadata": {},
   "outputs": [
    {
     "name": "stdout",
     "output_type": "stream",
     "text": [
      "Four\n",
      "Five\n",
      "Six\n",
      "No of records displayed :  3\n"
     ]
    }
   ],
   "source": [
    "q = \"SELECT DISTINCT(class) FROM student WHERE mark>=80\"\n",
    "\n",
    "try:\n",
    "    r_set = my_conn.execute(q)\n",
    "    data = r_set.fetchall()\n",
    "    for row in data:\n",
    "        print(row[0])\n",
    "except SQLAlchemyError as e:\n",
    "    print(e)\n",
    "else:\n",
    "    print(\"No of records displayed : \", len(data))"
   ]
  },
  {
   "cell_type": "code",
   "execution_count": 47,
   "metadata": {},
   "outputs": [
    {
     "name": "stdout",
     "output_type": "stream",
     "text": [
      "Five\n",
      "Four\n",
      "Six\n",
      "No of records displayed :  3\n"
     ]
    }
   ],
   "source": [
    "q = \"SELECT DISTINCT(class) FROM student ORDER BY class\"\n",
    "\n",
    "try:\n",
    "    r_set = my_conn.execute(q)\n",
    "    data = r_set.fetchall()\n",
    "    for row in data:\n",
    "        print(row[0])\n",
    "except SQLAlchemyError as e:\n",
    "    print(e)\n",
    "else:\n",
    "    print(\"No of records displayed : \", len(data))"
   ]
  },
  {
   "cell_type": "code",
   "execution_count": 49,
   "metadata": {},
   "outputs": [
    {
     "name": "stdout",
     "output_type": "stream",
     "text": [
      "Five male\n",
      "Four female\n",
      "Four male\n",
      "Six male\n",
      "Six female\n",
      "No of records displayed :  5\n"
     ]
    }
   ],
   "source": [
    "q = \"SELECT DISTINCT class,sex FROM student ORDER BY class\"\n",
    "\n",
    "try:\n",
    "    r_set = my_conn.execute(q)\n",
    "    data = r_set.fetchall()\n",
    "    for row in data:\n",
    "        print(row[0], row[1])\n",
    "except SQLAlchemyError as e:\n",
    "    print(e)\n",
    "else:\n",
    "    print(\"No of records displayed : \", len(data))"
   ]
  },
  {
   "cell_type": "code",
   "execution_count": 50,
   "metadata": {},
   "outputs": [
    {
     "name": "stdout",
     "output_type": "stream",
     "text": [
      "No of records displayed :  1\n"
     ]
    }
   ],
   "source": [
    "q = \"DELETE FROM student WHERE id=5\"\n",
    "\n",
    "try:\n",
    "    r_set = my_conn.execute(q)\n",
    "except SQLAlchemyError as e:\n",
    "    print(e)\n",
    "else:\n",
    "    print(\"No of records displayed : \", r_set.rowcount)"
   ]
  },
  {
   "cell_type": "code",
   "execution_count": 52,
   "metadata": {},
   "outputs": [
    {
     "name": "stdout",
     "output_type": "stream",
     "text": [
      "No of records erased :  8\n"
     ]
    }
   ],
   "source": [
    "q = \"DELETE FROM student WHERE class='Four'\"\n",
    "\n",
    "try:\n",
    "    r_set = my_conn.execute(q)\n",
    "except SQLAlchemyError as e:\n",
    "    print(e)\n",
    "else:\n",
    "    print(\"No of records erased : \", r_set.rowcount)"
   ]
  },
  {
   "cell_type": "code",
   "execution_count": 54,
   "metadata": {},
   "outputs": [
    {
     "name": "stdout",
     "output_type": "stream",
     "text": [
      "No of records erased :  2\n"
     ]
    }
   ],
   "source": [
    "my_data = ('Five',)\n",
    "q = \"DELETE FROM student WHERE class=?\"\n",
    "\n",
    "try:\n",
    "    r_set = my_conn.execute(q, my_data)\n",
    "except SQLAlchemyError as e:\n",
    "    print(e)\n",
    "else:\n",
    "    print(\"No of records erased : \", r_set.rowcount)"
   ]
  },
  {
   "cell_type": "code",
   "execution_count": 55,
   "metadata": {},
   "outputs": [
    {
     "name": "stdout",
     "output_type": "stream",
     "text": [
      "No of records erased :  9\n"
     ]
    }
   ],
   "source": [
    "my_data = ('Six', 'Seven')\n",
    "q = \"DELETE FROM student WHERE class=? OR class=?\"\n",
    "\n",
    "try:\n",
    "    r_set = my_conn.execute(q, my_data)\n",
    "except SQLAlchemyError as e:\n",
    "    print(e)\n",
    "else:\n",
    "    print(\"No of records erased : \", r_set.rowcount)"
   ]
  },
  {
   "cell_type": "code",
   "execution_count": null,
   "metadata": {},
   "outputs": [],
   "source": [
    "q = \"DELETE FROM student\"\n",
    "\n",
    "try:\n",
    "    r_set = my_conn.execute(q)\n",
    "except SQLAlchemyError as e:\n",
    "    print(e)\n",
    "else:\n",
    "    print(\"No of records erased : \", r_set.rowcount)"
   ]
  }
 ],
 "metadata": {
  "kernelspec": {
   "display_name": "Python 3.8.10 64-bit",
   "language": "python",
   "name": "python3"
  },
  "language_info": {
   "codemirror_mode": {
    "name": "ipython",
    "version": 3
   },
   "file_extension": ".py",
   "mimetype": "text/x-python",
   "name": "python",
   "nbconvert_exporter": "python",
   "pygments_lexer": "ipython3",
   "version": "3.8.10"
  },
  "orig_nbformat": 4,
  "vscode": {
   "interpreter": {
    "hash": "916dbcbb3f70747c44a77c7bcd40155683ae19c65e1c03b4aa3499c5328201f1"
   }
  }
 },
 "nbformat": 4,
 "nbformat_minor": 2
}
